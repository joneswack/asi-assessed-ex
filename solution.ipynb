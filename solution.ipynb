{
 "cells": [
  {
   "cell_type": "markdown",
   "metadata": {
    "deletable": true,
    "editable": true
   },
   "source": [
    "<div style=\"\n",
    "    font-variant: small-caps;\n",
    "    font-weight: normal;\n",
    "    font-size: 30px;\n",
    "    text-align: center;\n",
    "    padding: 15px;\n",
    "    margin: 10px;\">ASI assessed Exercise</div>\n",
    "    \n",
    "<div style=\"display: inline-block; font-family: 'Lato', sans-serif; font-size: 12px; font-weight: bold; line-height: 12px; letter-spacing: 1px; padding: 10px 15px 8px;\">31/05/2017</div>\n",
    "    \n",
    "<div style=\"\n",
    "    float:right;\n",
    "    font-size: 12px;\n",
    "    line-height: 12px;\n",
    "    padding: 10px 15px 8px;\">Alberto IBARRONDO & Jonas Wacker</div>"
   ]
  },
  {
   "cell_type": "markdown",
   "metadata": {},
   "source": [
    "# Summary\n",
    "Analysis of MNIST and CIFAR datasets using Advanced Statistical Inference models and algorithms"
   ]
  },
  {
   "cell_type": "markdown",
   "metadata": {
    "deletable": true,
    "editable": true
   },
   "source": [
    "# 1. Import Datasets"
   ]
  },
  {
   "cell_type": "markdown",
   "metadata": {},
   "source": [
    "### 1.1 MNIST"
   ]
  },
  {
   "cell_type": "code",
   "execution_count": 69,
   "metadata": {
    "collapsed": true,
    "deletable": true,
    "editable": true,
    "scrolled": true
   },
   "outputs": [],
   "source": [
    "from utils import *\n",
    "import matplotlib.pyplot as plt\n",
    "import numpy as np\n",
    "import pandas as pd"
   ]
  },
  {
   "cell_type": "code",
   "execution_count": 98,
   "metadata": {
    "collapsed": true,
    "deletable": true,
    "editable": true
   },
   "outputs": [],
   "source": [
    "mnist_X_train, mnist_y_train = load_mnist(dataset='training')\n",
    "mnist_X_test,  mnist_y_test  = load_mnist(dataset='testing')"
   ]
  },
  {
   "cell_type": "markdown",
   "metadata": {},
   "source": [
    "### 1.2 CIFAR 10"
   ]
  },
  {
   "cell_type": "code",
   "execution_count": 99,
   "metadata": {
    "collapsed": false,
    "deletable": true,
    "editable": true
   },
   "outputs": [
    {
     "name": "stdout",
     "output_type": "stream",
     "text": [
      "<class 'dict'>\n",
      "dict_keys(['data_batch_1', 'data_batch_2', 'data_batch_3', 'data_batch_4', 'data_batch_5', 'test_batch'])\n",
      "dict_keys(['data_batch_1', 'data_batch_2', 'data_batch_3', 'data_batch_4', 'data_batch_5', 'test_batch'])\n"
     ]
    }
   ],
   "source": [
    "all_images, all_labels= load_cifar10('cifar-10-python.tar.gz')\n",
    "print(type(all_images))\n",
    "print(all_images.keys())\n",
    "print(all_labels.keys())"
   ]
  },
  {
   "cell_type": "code",
   "execution_count": 113,
   "metadata": {
    "collapsed": false,
    "deletable": true,
    "editable": true
   },
   "outputs": [],
   "source": [
    "cifar_X_train = np.concatenate([all_images['data_batch_1'], all_images['data_batch_1'], \n",
    "                             all_images['data_batch_3'], all_images['data_batch_4'],\n",
    "                             all_images['data_batch_5']])\n",
    "cifar_y_train = np.concatenate([all_labels['data_batch_1'], all_labels['data_batch_1'], \n",
    "                             all_labels['data_batch_3'], all_labels['data_batch_4'],\n",
    "                             all_labels['data_batch_5']])\n",
    "cifar_X_test = all_images['test_batch']\n",
    "cifar_y_test = all_labels['test_batch']"
   ]
  },
  {
   "cell_type": "markdown",
   "metadata": {},
   "source": [
    "# 2. Descriptive Analytics"
   ]
  },
  {
   "cell_type": "markdown",
   "metadata": {},
   "source": [
    "## 2.1 MNIST"
   ]
  },
  {
   "cell_type": "markdown",
   "metadata": {},
   "source": [
    "### 2.1.1 Description of MNIST"
   ]
  },
  {
   "cell_type": "code",
   "execution_count": 100,
   "metadata": {
    "collapsed": false,
    "deletable": true,
    "editable": true
   },
   "outputs": [
    {
     "name": "stdout",
     "output_type": "stream",
     "text": [
      "Length of Training Set: 60000\n",
      "Length of Test Set: 10000\n",
      "Image sizes: [28 x 28]\n"
     ]
    }
   ],
   "source": [
    "# Descriptive analytics over MNIST\n",
    "print('Length of Training Set: %d'%len(mnist_X_train))\n",
    "print('Length of Test Set: %d'%len(mnist_X_test))\n",
    "print('Image sizes: [%d x %d]'%(mnist_X_test.shape[1:]))"
   ]
  },
  {
   "cell_type": "code",
   "execution_count": 12,
   "metadata": {
    "collapsed": false,
    "deletable": true,
    "editable": true
   },
   "outputs": [
    {
     "data": {
      "image/png": "[encoded data removed]",
      "text/plain": [
       "<matplotlib.figure.Figure at 0x146f4616518>"
      ]
     },
     "metadata": {},
     "output_type": "display_data"
    }
   ],
   "source": [
    "# Visualize MNIST examples\n",
    "ROW = 2; COLUMN = 4\n",
    "\n",
    "for i in range(ROW * COLUMN):\n",
    "    image = mnist_X_train[i]\n",
    "    plt.subplot(ROW, COLUMN, i+1)\n",
    "    plt.axis('off')\n",
    "    plt.title(mnist_y_train[i])\n",
    "    plt.imshow(image, cmap='gray')\n",
    "\n",
    "plt.tight_layout()\n",
    "plt.show()"
   ]
  },
  {
   "cell_type": "markdown",
   "metadata": {},
   "source": [
    "## 2.2 Distribution of labels in MNIST"
   ]
  },
  {
   "cell_type": "code",
   "execution_count": 59,
   "metadata": {
    "collapsed": false,
    "deletable": true,
    "editable": true,
    "scrolled": true
   },
   "outputs": [
    {
     "data": {
      "image/png": "[encoded data removed]",
      "text/plain": [
       "<matplotlib.figure.Figure at 0x146f964e5f8>"
      ]
     },
     "metadata": {},
     "output_type": "display_data"
    }
   ],
   "source": [
    "# Distribution of labels in MNIST\n",
    "fig, ax = plt.subplots(1,2,figsize=(13,5))\n",
    "ax[0].hist(mnist_y_test, edgecolor='gray', align='mid', bins=np.arange(0,11)-0.5 )\n",
    "ax[0].set_xticks((np.arange(0,10)))\n",
    "ax[0].grid(axis='y', linestyle=':')\n",
    "ax[0].set_title(\"Distribution of labels in MNIST Test\")\n",
    "\n",
    "ax[1].hist(mnist_y_train, edgecolor='gray', align='mid', bins=np.arange(0,11)-0.5 )\n",
    "ax[1].set_xticks((np.arange(0,10)))\n",
    "ax[1].grid(axis='y', linestyle=':')\n",
    "ax[1].set_title(\"Distribution of labels in MNIST Training\")\n",
    "plt.show()"
   ]
  },
  {
   "cell_type": "markdown",
   "metadata": {
    "deletable": true,
    "editable": true
   },
   "source": [
    "<div class=\"alert alert-info\">\n",
    "<h3>Question 2 - MNIST</h3>\n",
    "The mnist dataset comprises 50000 training images and 10000 test images, each representing a single digit that is already correctly labelled.\n",
    "Each input image is represented by an array of 784 8-bit integers (values range from 0 - black to 255 white). This array can be reshaped such that it leads to a 28x28 b/w image.<br /><br />\n",
    "\n",
    "The labels are almost evenly distributed in the training as well as the test set.<br /><br />\n",
    "This is a good thing because it means that we have more or less the same amount of training data for each digit and we can hope that the model will learn the recognition of each of them equally well. Having an even distribution of test labels is also a good thing because this will lead to comparable test results (precision/recall) among the labels.\n",
    "</div>"
   ]
  },
  {
   "cell_type": "markdown",
   "metadata": {
    "deletable": true,
    "editable": true
   },
   "source": [
    "## 2.2 CIFAR10"
   ]
  },
  {
   "cell_type": "markdown",
   "metadata": {},
   "source": [
    "### 2.2.1 Description of CIFAR"
   ]
  },
  {
   "cell_type": "code",
   "execution_count": 104,
   "metadata": {
    "collapsed": false,
    "deletable": true,
    "editable": true,
    "scrolled": true
   },
   "outputs": [
    {
     "name": "stdout",
     "output_type": "stream",
     "text": [
      "Number of Training batches: 5\n",
      "Batch sizes: 50000\n",
      "Image sizes: 1024 px with 3 RGB colours each\n"
     ]
    }
   ],
   "source": [
    "# Sizes of CIFAR\n",
    "print(\"Number of Training batches: 5\")\n",
    "print(\"Batch sizes: %d\"% cifar_X_train.shape[0])\n",
    "print(\"Image sizes: %d px with %d RGB colours each\"%cifar_X_train.shape[1:])"
   ]
  },
  {
   "cell_type": "code",
   "execution_count": 112,
   "metadata": {
    "collapsed": false,
    "deletable": true,
    "editable": true
   },
   "outputs": [
    {
     "data": {
      "text/plain": [
       "(10000, 1024, 3)"
      ]
     },
     "execution_count": 112,
     "metadata": {},
     "output_type": "execute_result"
    }
   ],
   "source": [
    "# Example of a CIFAR data object\n",
    "cifar_X_train[0]\n",
    "cifar_X_test.shape"
   ]
  },
  {
   "cell_type": "code",
   "execution_count": 106,
   "metadata": {
    "collapsed": false,
    "deletable": true,
    "editable": true
   },
   "outputs": [
    {
     "data": {
      "image/png": "[encoded data removed]",
      "text/plain": [
       "<matplotlib.figure.Figure at 0x146faa38b38>"
      ]
     },
     "metadata": {},
     "output_type": "display_data"
    }
   ],
   "source": [
    "# Plot some example images\n",
    "for i in range(ROW * COLUMN):\n",
    "    image = cifar_X_train[i].reshape(32, 32, 3)\n",
    "    plt.subplot(ROW, COLUMN, i+1)\n",
    "    plt.axis('off')\n",
    "    plt.title(cifar_y_train[i])\n",
    "    plt.imshow(image)\n",
    "\n",
    "plt.tight_layout()\n",
    "plt.show()"
   ]
  },
  {
   "cell_type": "markdown",
   "metadata": {},
   "source": [
    "## 2.2 Distribution of labels in CIFAR"
   ]
  },
  {
   "cell_type": "code",
   "execution_count": 116,
   "metadata": {
    "collapsed": false,
    "deletable": true,
    "editable": true
   },
   "outputs": [
    {
     "data": {
      "image/png": "[encoded data removed]",
      "text/plain": [
       "<matplotlib.figure.Figure at 0x146fa7fe898>"
      ]
     },
     "metadata": {},
     "output_type": "display_data"
    }
   ],
   "source": [
    "# Distribution of labels in MNIST\n",
    "fig, ax = plt.subplots(1,2,figsize=(13,5))\n",
    "ax[0].hist(cifar_y_test, edgecolor='gray', align='mid', bins=np.arange(0,11)-0.5 )\n",
    "ax[0].set_xticks((np.arange(0,10)))\n",
    "ax[0].grid(axis='y', linestyle=':')\n",
    "ax[0].set_title(\"Distribution of labels in CIFAR Test\")\n",
    "\n",
    "ax[1].hist(cifar_y_train, edgecolor='gray', align='mid', bins=np.arange(0,11)-0.5 )\n",
    "ax[1].set_xticks((np.arange(0,10)))\n",
    "ax[1].grid(axis='y', linestyle=':')\n",
    "ax[1].set_title(\"Distribution of labels in CIFAR Training\")\n",
    "plt.show()"
   ]
  },
  {
   "cell_type": "markdown",
   "metadata": {
    "deletable": true,
    "editable": true
   },
   "source": [
    "<div class=\"alert alert-info\">\n",
    "<h3>Question 2 - CIFAR10</h3>\n",
    "The CIFAR10 dataset comprises 50000 training images (divided in 5 batches) and 10000 test images, each representing an object in a coloured image that is already correctly labelled.\n",
    "Each input image is represented by an array of 1024 RGB values (3x8-bit integers, values range from 0 - 255). This array can be reshaped such that it leads to a 32x32 colour image.<br /><br />\n",
    "Here again, the labels are almost evenly distributed in the training set. In the test set they are exactly evenly distributed.<br />\n",
    "This is a good thing because it means that we have more or less the same amount of training data for each digit and we can hope that the model will learn the recognition of each of them equally well. Having an even distribution of test labels is also a good thing because this will lead to comparable test results (precision/recall) among the labels.<br /><br />\n",
    "The training batches are not split by different kinds of objects but are simply representative partitions of the entire training data. Therefore, it is possible to train models on a single batch of the entire dataset if computational resources are limited.\n",
    "</div>"
   ]
  },
  {
   "cell_type": "markdown",
   "metadata": {},
   "source": [
    "## 2.2 Distribution of labels in MNIST"
   ]
  },
  {
   "cell_type": "markdown",
   "metadata": {
    "deletable": true,
    "editable": true
   },
   "source": [
    "# 4. Linear Regression"
   ]
  },
  {
   "cell_type": "markdown",
   "metadata": {},
   "source": [
    "## MNIST"
   ]
  },
  {
   "cell_type": "markdown",
   "metadata": {},
   "source": [
    "### a+b) Implementation of Bayesian Linear Regression"
   ]
  },
  {
   "cell_type": "code",
   "execution_count": 20,
   "metadata": {
    "collapsed": true
   },
   "outputs": [],
   "source": [
    "import numpy as np"
   ]
  },
  {
   "cell_type": "code",
   "execution_count": 117,
   "metadata": {
    "collapsed": false
   },
   "outputs": [],
   "source": [
    "N = len(mnist_X_train)\n",
    "\n",
    "# convert training data to feature vectors\n",
    "training_features = np.array([training_image.flatten() for training_image in mnist_X_train], dtype='float')\n",
    "\n",
    "D = len(training_features[0])\n",
    "\n",
    "# add gaussian noise to make (X'X) invertible\n",
    "# otherwise problematic because the images are very sparse\n",
    "training_features += np.random.randn(N, D) * 0.01\n",
    "\n",
    "# augment the feature matrix with bias terms\n",
    "training_features = np.hstack((np.array([np.ones(N)]).T, training_features))"
   ]
  },
  {
   "cell_type": "code",
   "execution_count": 118,
   "metadata": {
    "collapsed": true
   },
   "outputs": [],
   "source": [
    "training_labels = np.array(training_labels)"
   ]
  },
  {
   "cell_type": "code",
   "execution_count": 119,
   "metadata": {
    "collapsed": false
   },
   "outputs": [
    {
     "data": {
      "text/plain": [
       "(60000, 785)"
      ]
     },
     "execution_count": 119,
     "metadata": {},
     "output_type": "execute_result"
    }
   ],
   "source": [
    "training_features.shape"
   ]
  },
  {
   "cell_type": "markdown",
   "metadata": {},
   "source": [
    "### compute MLEs"
   ]
  },
  {
   "cell_type": "code",
   "execution_count": 120,
   "metadata": {
    "collapsed": false
   },
   "outputs": [],
   "source": [
    "X_t_X = np.dot(training_features.T, training_features)"
   ]
  },
  {
   "cell_type": "code",
   "execution_count": 121,
   "metadata": {
    "collapsed": false
   },
   "outputs": [
    {
     "data": {
      "text/plain": [
       "(785, 785)"
      ]
     },
     "execution_count": 121,
     "metadata": {},
     "output_type": "execute_result"
    }
   ],
   "source": [
    "X_t_X.shape"
   ]
  },
  {
   "cell_type": "code",
   "execution_count": 122,
   "metadata": {
    "collapsed": false
   },
   "outputs": [],
   "source": [
    "w_hat = np.linalg.inv(X_t_X).dot(training_features.T).dot(training_labels)\n",
    "#w_hat = np.linalg.solve(X_t_X, np.dot(training_features.T, training_labels))"
   ]
  },
  {
   "cell_type": "code",
   "execution_count": 123,
   "metadata": {
    "collapsed": false
   },
   "outputs": [],
   "source": [
    "ss_hat = 1 / N * np.linalg.norm(training_labels - np.dot(training_features, w_hat))**2"
   ]
  },
  {
   "cell_type": "markdown",
   "metadata": {},
   "source": [
    "### defining a prior for w"
   ]
  },
  {
   "cell_type": "code",
   "execution_count": 124,
   "metadata": {
    "collapsed": true
   },
   "outputs": [],
   "source": [
    "mu_0 = np.zeros(D + 1)"
   ]
  },
  {
   "cell_type": "code",
   "execution_count": 125,
   "metadata": {
    "collapsed": false
   },
   "outputs": [],
   "source": [
    "sigma_0 = np.eye(D + 1)"
   ]
  },
  {
   "cell_type": "markdown",
   "metadata": {},
   "source": [
    "### posterior distribution for w"
   ]
  },
  {
   "cell_type": "code",
   "execution_count": 126,
   "metadata": {
    "collapsed": true
   },
   "outputs": [],
   "source": [
    "sigma_w = np.linalg.inv(1/ss_hat * training_features.T.dot(training_features) + np.linalg.inv(sigma_0))"
   ]
  },
  {
   "cell_type": "code",
   "execution_count": 127,
   "metadata": {
    "collapsed": true
   },
   "outputs": [],
   "source": [
    "mu_w = sigma_w.dot(1/ss_hat * training_features.T.dot(training_labels) + np.linalg.inv(sigma_0).dot(mu_0))"
   ]
  },
  {
   "cell_type": "markdown",
   "metadata": {},
   "source": [
    "### c) Compute average predictions on test data"
   ]
  },
  {
   "cell_type": "code",
   "execution_count": 128,
   "metadata": {
    "collapsed": true
   },
   "outputs": [],
   "source": [
    "# augment test features\n",
    "test_features = np.array([test_image.flatten() for test_image in test_images], dtype='float')\n",
    "test_features = np.hstack((np.array([np.ones(len(test_features))]).T, test_features))"
   ]
  },
  {
   "cell_type": "code",
   "execution_count": 129,
   "metadata": {
    "collapsed": true
   },
   "outputs": [],
   "source": [
    "expected_values = np.dot(test_features, mu_w)"
   ]
  },
  {
   "cell_type": "code",
   "execution_count": 130,
   "metadata": {
    "collapsed": false
   },
   "outputs": [
    {
     "data": {
      "image/png": "[encoded data removed]",
      "text/plain": [
       "<matplotlib.figure.Figure at 0x14684e35710>"
      ]
     },
     "metadata": {},
     "output_type": "display_data"
    }
   ],
   "source": [
    "plt.figure()\n",
    "plt.scatter(test_labels, expected_values)\n",
    "plt.xlabel('Actual values')\n",
    "plt.ylabel('Predicted values')\n",
    "plt.title('Scatter Plot - Actual Numbers vs. Predicted ones (averaged predictions per test sample)')\n",
    "plt.show()"
   ]
  },
  {
   "cell_type": "markdown",
   "metadata": {},
   "source": [
    "Computing the mean squared error..."
   ]
  },
  {
   "cell_type": "code",
   "execution_count": 161,
   "metadata": {
    "collapsed": false
   },
   "outputs": [
    {
     "name": "stdout",
     "output_type": "stream",
     "text": [
      "3.15870754132\n"
     ]
    }
   ],
   "source": [
    "MSE = 1 / len(test_features) * np.linalg.norm(test_labels - expected_values)**2\n",
    "print(MSE)"
   ]
  },
  {
   "cell_type": "code",
   "execution_count": 163,
   "metadata": {
    "collapsed": false
   },
   "outputs": [
    {
     "name": "stdout",
     "output_type": "stream",
     "text": [
      "3.15870754132\n"
     ]
    }
   ],
   "source": [
    "expected_values_2 = np.dot(test_features, w_hat)\n",
    "MSE_2 = 1 / len(test_features) * np.linalg.norm(test_labels - expected_values_2)**2\n",
    "print(MSE)"
   ]
  },
  {
   "cell_type": "markdown",
   "metadata": {},
   "source": [
    "MLE and bayesian approach lead to the same error"
   ]
  },
  {
   "cell_type": "markdown",
   "metadata": {},
   "source": [
    "<div class=\"alert alert-info\">\n",
    "<h3>Comment</h3>\n",
    "We can see that our predictions have a very high variance and are not very accurate. At least, there is a slight upwards trend in the scatter plot. So it seems that higher numbers tend to have gotten higher predictions. We will observe the exact accuracies in the next step. The MSE value tells us that on average we are sqrt(3) away from the true label.\n",
    "</div>"
   ]
  },
  {
   "cell_type": "markdown",
   "metadata": {},
   "source": [
    "### d) Discretization, Confusion Matrix and Precision"
   ]
  },
  {
   "cell_type": "markdown",
   "metadata": {},
   "source": [
    "Discretize the predictions..."
   ]
  },
  {
   "cell_type": "code",
   "execution_count": 185,
   "metadata": {
    "collapsed": true
   },
   "outputs": [],
   "source": [
    "expected_values_discrete = np.round(expected_values)"
   ]
  },
  {
   "cell_type": "code",
   "execution_count": 186,
   "metadata": {
    "collapsed": false
   },
   "outputs": [
    {
     "data": {
      "text/plain": [
       "array([ 6.,  2.,  2.,  1.,  4.,  2.,  7.,  6.,  3.,  8.,  1.,  3.,  7.,\n",
       "        2.,  1.,  4.,  7.,  4.,  4.,  4.,  7.,  6.,  3.,  5.,  4.,  1.,\n",
       "        7.,  4.,  1.,  3.,  5.,  2.,  4.,  4.,  5.,  1.,  6.,  2.,  2.,\n",
       "        3.,  1.,  6.,  6.,  3.,  5.,  5.,  4.,  5.,  8.,  5.,  5.,  3.,\n",
       "        3.,  4.,  3.,  5.,  4.,  2.,  7.,  3.,  7.,  7.,  6.,  4.,  6.,\n",
       "        6.,  1.,  4.,  5.,  1.,  4.,  0.,  1.,  8.,  3.,  6.,  3.,  4.,\n",
       "        7.,  8.,  8.,  5.,  3.,  8.,  6.,  6.,  7.,  5.,  6.,  2.,  3.,\n",
       "        6.,  5.,  5.,  5.,  4.,  4.,  4.,  3.,  9.])"
      ]
     },
     "execution_count": 186,
     "metadata": {},
     "output_type": "execute_result"
    }
   ],
   "source": [
    "expected_values_discrete[:100]"
   ]
  },
  {
   "cell_type": "code",
   "execution_count": 187,
   "metadata": {
    "collapsed": true
   },
   "outputs": [],
   "source": [
    "import itertools\n",
    "\n",
    "def plot_confusion_matrix(cm, classes,\n",
    "                          normalize=False,\n",
    "                          title='Confusion matrix',\n",
    "                          cmap=plt.cm.Blues):\n",
    "    \"\"\"\n",
    "    This function prints and plots the confusion matrix.\n",
    "    Normalization can be applied by setting `normalize=True`.\n",
    "    \"\"\"\n",
    "    plt.imshow(cm, interpolation='nearest', cmap=cmap)\n",
    "    plt.title(title)\n",
    "    plt.colorbar()\n",
    "    tick_marks = np.arange(len(classes))\n",
    "    plt.xticks(tick_marks, classes, rotation=45)\n",
    "    plt.yticks(tick_marks, classes)\n",
    "\n",
    "    if normalize:\n",
    "        cm = cm.astype('float') / cm.sum(axis=1)[:, np.newaxis]\n",
    "        print(\"Normalized confusion matrix\")\n",
    "    else:\n",
    "        print('Confusion matrix, without normalization')\n",
    "\n",
    "    #print(cm)\n",
    "\n",
    "    thresh = cm.max() / 2.\n",
    "    for i, j in itertools.product(range(cm.shape[0]), range(cm.shape[1])):\n",
    "        plt.text(j, i, cm[i, j],\n",
    "                 horizontalalignment=\"center\",\n",
    "                 color=\"white\" if cm[i, j] > thresh else \"black\")\n",
    "\n",
    "    plt.tight_layout()\n",
    "    plt.ylabel('True label')\n",
    "    plt.xlabel('Predicted label')"
   ]
  },
  {
   "cell_type": "code",
   "execution_count": 188,
   "metadata": {
    "collapsed": false
   },
   "outputs": [
    {
     "name": "stdout",
     "output_type": "stream",
     "text": [
      "Confusion matrix, without normalization\n"
     ]
    },
    {
     "data": {
      "image/png": "[encoded data removed]",
      "text/plain": [
       "<matplotlib.figure.Figure at 0x103c289e8>"
      ]
     },
     "metadata": {},
     "output_type": "display_data"
    }
   ],
   "source": [
    "from sklearn.metrics import confusion_matrix\n",
    "\n",
    "cnf_matrix = confusion_matrix(test_labels, expected_values_discrete, labels=np.arange(10))\n",
    "\n",
    "np.set_printoptions(precision=2)\n",
    "\n",
    "# Plot non-normalized confusion matrix\n",
    "plt.figure()\n",
    "plot_confusion_matrix(cnf_matrix, classes=np.arange(10),\n",
    "                      title='Confusion matrix')\n",
    "\n",
    "plt.show()"
   ]
  },
  {
   "cell_type": "code",
   "execution_count": 189,
   "metadata": {
    "collapsed": false
   },
   "outputs": [
    {
     "name": "stdout",
     "output_type": "stream",
     "text": [
      "Accuracy:  0.2209\n"
     ]
    }
   ],
   "source": [
    "print('Accuracy: ', np.sum(expected_values_discrete == test_labels) / len(test_labels))"
   ]
  },
  {
   "cell_type": "markdown",
   "metadata": {},
   "source": [
    "<div class=\"alert alert-info\">\n",
    "<h3>Comment</h3>\n",
    "We achieve an accuracy of around 22% meaning that 22% of our predictions are correct with the regression model that we implemented. This performance is quite low. However, we can clearly see that the model is not completely wrong. A random guess would achieve 10% accuracy. Therefore, applying regression to classification tasks seems to work in a limited way.\n",
    "</div>"
   ]
  },
  {
   "cell_type": "markdown",
   "metadata": {},
   "source": [
    "# 3. Classification \n",
    "## 3.1 Naive Bayes classifier"
   ]
  },
  {
   "cell_type": "code",
   "execution_count": null,
   "metadata": {
    "collapsed": true
   },
   "outputs": [],
   "source": []
  }
 ],
 "metadata": {
  "kernelspec": {
   "display_name": "Python 3",
   "language": "python",
   "name": "python3"
  },
  "language_info": {
   "codemirror_mode": {
    "name": "ipython",
    "version": 3
   },
   "file_extension": ".py",
   "mimetype": "text/x-python",
   "name": "python",
   "nbconvert_exporter": "python",
   "pygments_lexer": "ipython3",
   "version": "3.6.1"
  }
 },
 "nbformat": 4,
 "nbformat_minor": 2
}
