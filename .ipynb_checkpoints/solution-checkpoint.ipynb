{
 "cells": [
  {
   "cell_type": "markdown",
   "metadata": {},
   "source": [
    "<div style=\"\n",
    "    font-variant: small-caps;\n",
    "    font-weight: normal;\n",
    "    font-size: 30px;\n",
    "    text-align: center;\n",
    "    padding: 15px;\n",
    "    margin: 10px;\">ASI assessed Exercise</div>\n",
    "    \n",
    "<div style=\"display: inline-block; font-family: 'Lato', sans-serif; font-size: 12px; font-weight: bold; line-height: 12px; letter-spacing: 1px; padding: 10px 15px 8px;\">31/05/2017</div>\n",
    "    \n",
    "<div style=\"\n",
    "    float:right;\n",
    "    font-size: 12px;\n",
    "    line-height: 12px;\n",
    "    padding: 10px 15px 8px;\">Alberto IBARRONDO & Jonas Wacker</div>"
   ]
  },
  {
   "cell_type": "markdown",
   "metadata": {},
   "source": [
    "# Summary\n",
    "Analysis of MNIST and CIFAR datasets using Advanced Statistical Inference models and algorithms"
   ]
  },
  {
   "cell_type": "markdown",
   "metadata": {},
   "source": [
    "# 1. Import Datasets"
   ]
  },
  {
   "cell_type": "markdown",
   "metadata": {},
   "source": [
    "### 1.1 MNIST"
   ]
  },
  {
   "cell_type": "code",
   "execution_count": 1,
   "metadata": {
    "collapsed": true,
    "scrolled": true
   },
   "outputs": [],
   "source": [
    "from utils import *\n",
    "import matplotlib.pyplot as plt\n",
    "import numpy as np\n",
    "import pandas as pd"
   ]
  },
  {
   "cell_type": "code",
   "execution_count": 2,
   "metadata": {
    "collapsed": true
   },
   "outputs": [],
   "source": [
    "mnist_X_train, mnist_y_train = load_mnist(dataset='training')\n",
    "mnist_X_test,  mnist_y_test  = load_mnist(dataset='testing')"
   ]
  },
  {
   "cell_type": "markdown",
   "metadata": {},
   "source": [
    "### 1.2 CIFAR 10"
   ]
  },
  {
   "cell_type": "code",
   "execution_count": 3,
   "metadata": {
    "collapsed": false
   },
   "outputs": [
    {
     "name": "stdout",
     "output_type": "stream",
     "text": [
      "<class 'dict'>\n",
      "dict_keys(['data_batch_1', 'data_batch_2', 'data_batch_3', 'data_batch_4', 'data_batch_5', 'test_batch'])\n",
      "dict_keys(['data_batch_1', 'data_batch_2', 'data_batch_3', 'data_batch_4', 'data_batch_5', 'test_batch'])\n"
     ]
    }
   ],
   "source": [
    "all_images, all_labels= load_cifar10('cifar-10-python.tar.gz')\n",
    "print(type(all_images))\n",
    "print(all_images.keys())\n",
    "print(all_labels.keys())"
   ]
  },
  {
   "cell_type": "code",
   "execution_count": 4,
   "metadata": {
    "collapsed": true
   },
   "outputs": [],
   "source": [
    "cifar_X_train = np.concatenate([all_images['data_batch_1'], all_images['data_batch_1'], \n",
    "                             all_images['data_batch_3'], all_images['data_batch_4'],\n",
    "                             all_images['data_batch_5']])\n",
    "cifar_y_train = np.concatenate([all_labels['data_batch_1'], all_labels['data_batch_1'], \n",
    "                             all_labels['data_batch_3'], all_labels['data_batch_4'],\n",
    "                             all_labels['data_batch_5']])\n",
    "cifar_X_test = all_images['test_batch']\n",
    "cifar_y_test = all_labels['test_batch']"
   ]
  },
  {
   "cell_type": "markdown",
   "metadata": {},
   "source": [
    "# 2. Descriptive Analytics"
   ]
  },
  {
   "cell_type": "markdown",
   "metadata": {},
   "source": [
    "## 2.1 MNIST"
   ]
  },
  {
   "cell_type": "markdown",
   "metadata": {},
   "source": [
    "### 2.1.1 Description of MNIST"
   ]
  },
  {
   "cell_type": "code",
   "execution_count": 5,
   "metadata": {
    "collapsed": false
   },
   "outputs": [
    {
     "name": "stdout",
     "output_type": "stream",
     "text": [
      "Length of Training Set: 60000\n",
      "Length of Test Set: 10000\n",
      "Image sizes: [28 x 28]\n"
     ]
    }
   ],
   "source": [
    "# Descriptive analytics over MNIST\n",
    "print('Length of Training Set: %d'%len(mnist_X_train))\n",
    "print('Length of Test Set: %d'%len(mnist_X_test))\n",
    "print('Image sizes: [%d x %d]'%(mnist_X_test.shape[1:]))"
   ]
  },
  {
   "cell_type": "code",
   "execution_count": 6,
   "metadata": {
    "collapsed": false
   },
   "outputs": [
    {
     "data": {
      "image/png": "[encoded data removed]",
      "text/plain": [
       "<matplotlib.figure.Figure at 0x1f3b54c0630>"
      ]
     },
     "metadata": {},
     "output_type": "display_data"
    }
   ],
   "source": [
    "# Visualize MNIST examples\n",
    "ROW = 2; COLUMN = 4\n",
    "\n",
    "for i in range(ROW * COLUMN):\n",
    "    image = mnist_X_train[i]\n",
    "    plt.subplot(ROW, COLUMN, i+1)\n",
    "    plt.axis('off')\n",
    "    plt.title(mnist_y_train[i])\n",
    "    plt.imshow(image, cmap='gray')\n",
    "\n",
    "plt.tight_layout()\n",
    "plt.show()"
   ]
  },
  {
   "cell_type": "markdown",
   "metadata": {},
   "source": [
    "### 2.1.2 Distribution of labels in MNIST"
   ]
  },
  {
   "cell_type": "code",
   "execution_count": 59,
   "metadata": {
    "collapsed": false,
    "scrolled": true
   },
   "outputs": [
    {
     "data": {
      "image/png": "[encoded data removed]",
      "text/plain": [
       "<matplotlib.figure.Figure at 0x146f964e5f8>"
      ]
     },
     "metadata": {},
     "output_type": "display_data"
    }
   ],
   "source": [
    "# Distribution of labels in MNIST\n",
    "fig, ax = plt.subplots(1,2,figsize=(13,5))\n",
    "hMNIST_Test = ax[0].hist(mnist_y_test, edgecolor='gray', align='mid', bins=np.arange(0,11)-0.5 )\n",
    "ax[0].set_xticks((np.arange(0,10)))\n",
    "ax[0].grid(axis='y', linestyle=':')\n",
    "ax[0].set_title(\"Distribution of labels in MNIST Test\")\n",
    "print(\"Labels in MNIST Test set -> Min: %d, Max: %d, Mean: %d\"%(min()))\n",
    "\n",
    "ax[1].hist(mnist_y_train, edgecolor='gray', align='mid', bins=np.arange(0,11)-0.5 )\n",
    "ax[1].set_xticks((np.arange(0,10)))\n",
    "ax[1].grid(axis='y', linestyle=':')\n",
    "ax[1].set_title(\"Distribution of labels in MNIST Training\")\n",
    "plt.show()"
   ]
  },
  {
   "cell_type": "markdown",
   "metadata": {},
   "source": [
    "<div class=\"alert alert-info\">\n",
    "<h3>Question 2 - MNIST</h3>\n",
    "The mnist dataset comprises 50000 training images and 10000 test images, each representing a single digit that is already correctly labelled.\n",
    "Each input image is represented by an array of 784 8-bit integers (values range from 0 - black to 255 white). This array can be reshaped such that it leads to a 28x28 b/w image.<br /><br />\n",
    "\n",
    "The labels are almost evenly distributed in the training as well as the test set.<br /><br />\n",
    "This is a good thing because it means that we have more or less the same amount of training data for each digit and we can hope that the model will learn the recognition of each of them equally well. Having an even distribution of test labels is also a good thing because this will lead to comparable test results (precision/recall) among the labels.\n",
    "</div>"
   ]
  },
  {
   "cell_type": "markdown",
   "metadata": {},
   "source": [
    "## 2.2 CIFAR10"
   ]
  },
  {
   "cell_type": "markdown",
   "metadata": {},
   "source": [
    "### 2.2.1 Description of CIFAR"
   ]
  },
  {
   "cell_type": "code",
   "execution_count": 7,
   "metadata": {
    "collapsed": false,
    "scrolled": true
   },
   "outputs": [
    {
     "name": "stdout",
     "output_type": "stream",
     "text": [
      "Number of Training batches: 5\n",
      "Batch sizes: 50000\n",
      "Image sizes: 1024 px with 3 RGB colours each\n"
     ]
    }
   ],
   "source": [
    "# Sizes of CIFAR\n",
    "print(\"Number of Training batches: 5\")\n",
    "print(\"Batch sizes: %d\"% cifar_X_train.shape[0])\n",
    "print(\"Image sizes: %d px with %d RGB colours each\"%cifar_X_train.shape[1:])"
   ]
  },
  {
   "cell_type": "code",
   "execution_count": 8,
   "metadata": {
    "collapsed": false
   },
   "outputs": [
    {
     "data": {
      "text/plain": [
       "(10000, 1024, 3)"
      ]
     },
     "execution_count": 8,
     "metadata": {},
     "output_type": "execute_result"
    }
   ],
   "source": [
    "# Example of a CIFAR data object\n",
    "cifar_X_train[0]\n",
    "cifar_X_test.shape"
   ]
  },
  {
   "cell_type": "code",
   "execution_count": 9,
   "metadata": {
    "collapsed": false
   },
   "outputs": [
    {
     "data": {
      "image/png": "[encoded data removed]",
      "text/plain": [
       "<matplotlib.figure.Figure at 0x11234d3c8>"
      ]
     },
     "metadata": {},
     "output_type": "display_data"
    }
   ],
   "source": [
    "# Plot some example images\n",
    "for i in range(ROW * COLUMN):\n",
    "    image = cifar_X_train[i].reshape(32, 32, 3)\n",
    "    plt.subplot(ROW, COLUMN, i+1)\n",
    "    plt.axis('off')\n",
    "    plt.title(cifar_y_train[i])\n",
    "    plt.imshow(image)\n",
    "\n",
    "plt.tight_layout()\n",
    "plt.show()"
   ]
  },
  {
   "cell_type": "markdown",
   "metadata": {},
   "source": [
    "## 2.2 Distribution of labels in CIFAR"
   ]
  },
  {
   "cell_type": "code",
   "execution_count": 116,
   "metadata": {
    "collapsed": false
   },
   "outputs": [
    {
     "data": {
      "image/png": "[encoded data removed]",
      "text/plain": [
       "<matplotlib.figure.Figure at 0x146fa7fe898>"
      ]
     },
     "metadata": {},
     "output_type": "display_data"
    }
   ],
   "source": [
    "# Distribution of labels in MNIST\n",
    "fig, ax = plt.subplots(1,2,figsize=(13,5))\n",
    "ax[0].hist(cifar_y_test, edgecolor='gray', align='mid', bins=np.arange(0,11)-0.5 )\n",
    "ax[0].set_xticks((np.arange(0,10)))\n",
    "ax[0].grid(axis='y', linestyle=':')\n",
    "ax[0].set_title(\"Distribution of labels in CIFAR Test\")\n",
    "\n",
    "ax[1].hist(cifar_y_train, edgecolor='gray', align='mid', bins=np.arange(0,11)-0.5 )\n",
    "ax[1].set_xticks((np.arange(0,10)))\n",
    "ax[1].grid(axis='y', linestyle=':')\n",
    "ax[1].set_title(\"Distribution of labels in CIFAR Training\")\n",
    "plt.show()"
   ]
  },
  {
   "cell_type": "markdown",
   "metadata": {},
   "source": [
    "<div class=\"alert alert-info\">\n",
    "<h3>Question 2 - CIFAR10</h3>\n",
    "The CIFAR10 dataset comprises 50000 training images (divided in 5 batches) and 10000 test images, each representing an object in a coloured image that is already correctly labelled.\n",
    "Each input image is represented by an array of 1024 RGB values (3x8-bit integers, values range from 0 - 255). This array can be reshaped such that it leads to a 32x32 colour image.<br /><br />\n",
    "Here again, the labels are almost evenly distributed in the training set. In the test set they are exactly evenly distributed.<br />\n",
    "This is a good thing because it means that we have more or less the same amount of training data for each digit and we can hope that the model will learn the recognition of each of them equally well. Having an even distribution of test labels is also a good thing because this will lead to comparable test results (precision/recall) among the labels.<br /><br />\n",
    "The training batches are not split by different kinds of objects but are simply representative partitions of the entire training data. Therefore, it is possible to train models on a single batch of the entire dataset if computational resources are limited.\n",
    "</div>"
   ]
  },
  {
   "cell_type": "markdown",
   "metadata": {},
   "source": [
    "## 2.2 Distribution of labels in MNIST"
   ]
  },
  {
   "cell_type": "markdown",
   "metadata": {},
   "source": [
    "# 4. Linear Regression"
   ]
  },
  {
   "cell_type": "markdown",
   "metadata": {},
   "source": [
    "### a+b) Implementation of Bayesian Linear Regression"
   ]
  },
  {
   "cell_type": "markdown",
   "metadata": {},
   "source": [
    "### Preprocessing"
   ]
  },
  {
   "cell_type": "code",
   "execution_count": 10,
   "metadata": {
    "collapsed": true
   },
   "outputs": [],
   "source": [
    "import numpy as np"
   ]
  },
  {
   "cell_type": "code",
   "execution_count": 190,
   "metadata": {
    "collapsed": true
   },
   "outputs": [],
   "source": [
    "N_mnist = len(mnist_X_train)\n",
    "N_cifar = len(cifar_X_train)\n",
    "\n",
    "# convert training data to feature vectors\n",
    "reg_features_mnist = np.array([training_image.flatten() for training_image in mnist_X_train], dtype='float')\n",
    "reg_features_cifar = np.array([training_image.flatten() for training_image in cifar_X_train], dtype='float')\n",
    "\n",
    "D_mnist = len(reg_features_mnist[0])\n",
    "D_cifar = len(reg_features_cifar[0])\n",
    "\n",
    "# add gaussian noise to make (X'X) invertible\n",
    "# otherwise problematic because the images are very sparse\n",
    "reg_features_mnist += np.random.randn(N_mnist, D_mnist) * 0.01\n",
    "# reg_features_cifar += np.random.randn(N_cifar, D_cifar)\n",
    "\n",
    "# augment the feature matrix with bias terms\n",
    "reg_features_mnist = np.hstack((np.array([np.ones(N_mnist)]).T, reg_features_mnist))\n",
    "reg_features_cifar = np.hstack((np.array([np.ones(N_cifar)]).T, reg_features_cifar))"
   ]
  },
  {
   "cell_type": "code",
   "execution_count": 191,
   "metadata": {
    "collapsed": false
   },
   "outputs": [
    {
     "name": "stdout",
     "output_type": "stream",
     "text": [
      "(60000, 785)\n",
      "(50000, 3073)\n"
     ]
    }
   ],
   "source": [
    "print(reg_features_mnist.shape)\n",
    "print(reg_features_cifar.shape)"
   ]
  },
  {
   "cell_type": "code",
   "execution_count": 192,
   "metadata": {
    "collapsed": false
   },
   "outputs": [
    {
     "name": "stdout",
     "output_type": "stream",
     "text": [
      "(60000, 10)\n",
      "(50000, 10)\n"
     ]
    }
   ],
   "source": [
    "# convert training labels into one-hot-encoding\n",
    "# (categorical data needs to be adjusted to work with LR)\n",
    "from sklearn.preprocessing import OneHotEncoder\n",
    "enc = OneHotEncoder()\n",
    "training_labels_mnist = np.array(mnist_y_train).reshape(-1, 1)\n",
    "training_labels_oh_mnist = enc.fit_transform(training_labels_mnist).toarray()\n",
    "training_labels_cifar = np.array(cifar_y_train).reshape(-1, 1)\n",
    "training_labels_oh_cifar = enc.fit_transform(training_labels_cifar).toarray()\n",
    "print(training_labels_oh_mnist.shape)\n",
    "print(training_labels_oh_cifar.shape)"
   ]
  },
  {
   "cell_type": "code",
   "execution_count": 194,
   "metadata": {
    "collapsed": false
   },
   "outputs": [
    {
     "name": "stdout",
     "output_type": "stream",
     "text": [
      "[0]\n",
      "[ 1.  0.  0.  0.  0.  0.  0.  0.  0.  0.]\n",
      "[9]\n",
      "[ 0.  0.  0.  0.  0.  0.  0.  0.  0.  1.]\n"
     ]
    }
   ],
   "source": [
    "print(training_labels_mnist[1])\n",
    "print(training_labels_oh_mnist[1])\n",
    "print(training_labels_cifar[1])\n",
    "print(training_labels_oh_cifar[1])"
   ]
  },
  {
   "cell_type": "code",
   "execution_count": 195,
   "metadata": {
    "collapsed": true
   },
   "outputs": [],
   "source": [
    "# augment test features\n",
    "test_features_mnist = np.array([test_image.flatten() for test_image in mnist_X_test], dtype='float')\n",
    "test_features_mnist = np.hstack((np.array([np.ones(len(test_features_mnist))]).T, test_features_mnist))\n",
    "test_features_cifar = np.array([test_image.flatten() for test_image in cifar_X_test], dtype='float')\n",
    "test_features_cifar = np.hstack((np.array([np.ones(len(test_features_cifar))]).T, test_features_cifar))"
   ]
  },
  {
   "cell_type": "markdown",
   "metadata": {},
   "source": [
    "### Compute MLEs in order to get estimate for noise variance"
   ]
  },
  {
   "cell_type": "code",
   "execution_count": 198,
   "metadata": {
    "collapsed": true
   },
   "outputs": [],
   "source": [
    "X_t_X_mnist = np.dot(reg_features_mnist.T, reg_features_mnist)\n",
    "X_t_X_cifar = np.dot(reg_features_cifar.T, reg_features_cifar)"
   ]
  },
  {
   "cell_type": "code",
   "execution_count": 201,
   "metadata": {
    "collapsed": false
   },
   "outputs": [
    {
     "name": "stdout",
     "output_type": "stream",
     "text": [
      "(785, 785)\n",
      "(3073, 3073)\n"
     ]
    }
   ],
   "source": [
    "print(X_t_X_mnist.shape)\n",
    "print(X_t_X_cifar.shape)"
   ]
  },
  {
   "cell_type": "code",
   "execution_count": 203,
   "metadata": {
    "collapsed": false
   },
   "outputs": [
    {
     "name": "stdout",
     "output_type": "stream",
     "text": [
      "(785, 10)\n",
      "(3073, 10)\n"
     ]
    }
   ],
   "source": [
    "# W_hat is now a matrix (num_features X num_distinct_labels)\n",
    "W_hat_mnist = np.linalg.inv(X_t_X_mnist).dot(reg_features_mnist.T).dot(training_labels_oh_mnist)\n",
    "W_hat_cifar = np.linalg.inv(X_t_X_cifar).dot(reg_features_cifar.T).dot(training_labels_oh_cifar)\n",
    "#W_hat = np.linalg.solve(X_t_X, np.dot(training_features.T, training_labels_oh))\n",
    "print(W_hat_mnist.shape)\n",
    "print(W_hat_cifar.shape)"
   ]
  },
  {
   "cell_type": "code",
   "execution_count": 204,
   "metadata": {
    "collapsed": false
   },
   "outputs": [
    {
     "name": "stdout",
     "output_type": "stream",
     "text": [
      "(10,)\n",
      "[ 0.03  0.03  0.04  0.04  0.04  0.05  0.03  0.03  0.05  0.05]\n"
     ]
    }
   ],
   "source": [
    "# We now have an estimate for the noise variance for each target label\n",
    "ss_hat_mnist = 1 / N_mnist \\\n",
    "    * np.linalg.norm(training_labels_oh_mnist - np.dot(reg_features_mnist, W_hat_mnist), axis=0)**2\n",
    "ss_hat_cifar = 1 / N_cifar \\\n",
    "    * np.linalg.norm(training_labels_oh_cifar - np.dot(reg_features_cifar, W_hat_cifar), axis=0)**2\n",
    "print(ss_hat_mnist.shape)\n",
    "print(ss_hat_mnist)"
   ]
  },
  {
   "cell_type": "code",
   "execution_count": 205,
   "metadata": {
    "collapsed": false
   },
   "outputs": [
    {
     "name": "stdout",
     "output_type": "stream",
     "text": [
      "(10000, 10)\n"
     ]
    }
   ],
   "source": [
    "expected_values_mnist = np.dot(test_features_mnist, W_hat_mnist)\n",
    "expected_values_cifar = np.dot(test_features_cifar, W_hat_cifar)\n",
    "print(expected_values_mnist.shape)"
   ]
  },
  {
   "cell_type": "code",
   "execution_count": 206,
   "metadata": {
    "collapsed": true
   },
   "outputs": [],
   "source": [
    "predictions_mle_mnist = np.argmax(expected_values_mnist, axis=1)\n",
    "predictions_mle_cifar = np.argmax(expected_values_cifar, axis=1)"
   ]
  },
  {
   "cell_type": "code",
   "execution_count": 207,
   "metadata": {
    "collapsed": false
   },
   "outputs": [
    {
     "name": "stdout",
     "output_type": "stream",
     "text": [
      "MNIST accuracy using MLE estimate: 0.8603\n",
      "CIFAR accuracy using MLE estimate: 0.3574\n"
     ]
    }
   ],
   "source": [
    "print('MNIST accuracy using MLE estimate:', np.sum(predictions_mle_mnist == mnist_y_test) / len(mnist_y_test))\n",
    "print('CIFAR accuracy using MLE estimate:', np.sum(predictions_mle_cifar == cifar_y_test) / len(cifar_y_test))"
   ]
  },
  {
   "cell_type": "markdown",
   "metadata": {},
   "source": [
    "### Defining a prior for W"
   ]
  },
  {
   "cell_type": "markdown",
   "metadata": {},
   "source": [
    "We set the prior for each w vector to be standard normally distributed. The impact of the prior will diminish the more training data we have. Since we have 60,000 training samples, setting the prior arbitrarily is fine."
   ]
  },
  {
   "cell_type": "code",
   "execution_count": 208,
   "metadata": {
    "collapsed": true
   },
   "outputs": [],
   "source": [
    "dim_labels_mnist = training_labels_oh_mnist.shape[1]\n",
    "dim_labels_cifar = training_labels_oh_cifar.shape[1]"
   ]
  },
  {
   "cell_type": "code",
   "execution_count": 209,
   "metadata": {
    "collapsed": true
   },
   "outputs": [],
   "source": [
    "mu_0_mnist = np.zeros(W_hat_mnist.shape)\n",
    "mu_0_cifar = np.zeros(W_hat_cifar.shape)"
   ]
  },
  {
   "cell_type": "code",
   "execution_count": 210,
   "metadata": {
    "collapsed": true
   },
   "outputs": [],
   "source": [
    "# sigma_0 now becomes a 3-dimensional tensor\n",
    "# we simply repeat the eye matrix 10 times\n",
    "sigma_0_ind_mnist = np.eye(W_hat_mnist.shape[0])\n",
    "sigma_0_mnist = np.repeat(sigma_0_ind_mnist[:, :, np.newaxis], W_hat_mnist.shape[1], axis=2)\n",
    "\n",
    "sigma_0_ind_cifar = np.eye(W_hat_cifar.shape[0])\n",
    "sigma_0_cifar = np.repeat(sigma_0_ind_cifar[:, :, np.newaxis], W_hat_cifar.shape[1], axis=2)"
   ]
  },
  {
   "cell_type": "code",
   "execution_count": 211,
   "metadata": {
    "collapsed": false
   },
   "outputs": [
    {
     "name": "stdout",
     "output_type": "stream",
     "text": [
      "(785, 785, 10)\n"
     ]
    }
   ],
   "source": [
    "print(sigma_0_mnist.shape)"
   ]
  },
  {
   "cell_type": "code",
   "execution_count": 213,
   "metadata": {
    "collapsed": false
   },
   "outputs": [
    {
     "data": {
      "text/plain": [
       "array([[ 1.,  0.,  0., ...,  0.,  0.,  0.],\n",
       "       [ 0.,  1.,  0., ...,  0.,  0.,  0.],\n",
       "       [ 0.,  0.,  1., ...,  0.,  0.,  0.],\n",
       "       ..., \n",
       "       [ 0.,  0.,  0., ...,  1.,  0.,  0.],\n",
       "       [ 0.,  0.,  0., ...,  0.,  1.,  0.],\n",
       "       [ 0.,  0.,  0., ...,  0.,  0.,  1.]])"
      ]
     },
     "execution_count": 213,
     "metadata": {},
     "output_type": "execute_result"
    }
   ],
   "source": [
    "sigma_0_mnist[:,:,0]"
   ]
  },
  {
   "cell_type": "markdown",
   "metadata": {},
   "source": [
    "### Posterior distribution for W"
   ]
  },
  {
   "cell_type": "code",
   "execution_count": 215,
   "metadata": {
    "collapsed": true
   },
   "outputs": [],
   "source": [
    "# sigma_w now becomes a tensor as well\n",
    "\n",
    "sigma_w_mnist = np.ndarray(sigma_0_mnist.shape)\n",
    "sigma_w_cifar = np.ndarray(sigma_0_cifar.shape)\n",
    "\n",
    "for idx in range(dim_labels_mnist):\n",
    "    sigma_w_mnist[:,:,idx] = np.linalg.inv(1/ss_hat_mnist[idx] * X_t_X_mnist + np.linalg.inv(sigma_0_mnist[:,:,idx]))\n",
    "    \n",
    "for idx in range(dim_labels_cifar):\n",
    "    sigma_w_cifar[:,:,idx] = np.linalg.inv(1/ss_hat_cifar[idx] * X_t_X_cifar + np.linalg.inv(sigma_0_cifar[:,:,idx]))"
   ]
  },
  {
   "cell_type": "code",
   "execution_count": 216,
   "metadata": {
    "collapsed": true
   },
   "outputs": [],
   "source": [
    "# mu_w now becomes a matrix\n",
    "\n",
    "mu_w_mnist = np.ndarray(mu_0_mnist.shape)\n",
    "mu_w_cifar = np.ndarray(mu_0_cifar.shape)\n",
    "\n",
    "for idx in range(dim_labels_mnist):\n",
    "    mu_w_mnist[:, idx] = sigma_w_mnist[:,:,idx] \\\n",
    "        .dot(1/ss_hat_mnist[idx] * reg_features_mnist.T.dot(training_labels_oh_mnist[:, idx]) \\\n",
    "        + np.linalg.inv(sigma_0_mnist[:,:,idx]).dot(mu_0_mnist[:, idx]))\n",
    "        \n",
    "for idx in range(dim_labels_cifar):\n",
    "    mu_w_cifar[:, idx] = sigma_w_cifar[:,:,idx] \\\n",
    "        .dot(1/ss_hat_cifar[idx] * reg_features_cifar.T.dot(training_labels_oh_cifar[:, idx]) \\\n",
    "        + np.linalg.inv(sigma_0_cifar[:,:,idx]).dot(mu_0_cifar[:, idx]))"
   ]
  },
  {
   "cell_type": "markdown",
   "metadata": {},
   "source": [
    "### c) Compute average predictions on test data"
   ]
  },
  {
   "cell_type": "code",
   "execution_count": 217,
   "metadata": {
    "collapsed": false,
    "scrolled": true
   },
   "outputs": [
    {
     "name": "stdout",
     "output_type": "stream",
     "text": [
      "(10000, 10)\n",
      "(10000, 10)\n"
     ]
    }
   ],
   "source": [
    "expected_values_mnist = np.dot(test_features_mnist, mu_w_mnist)\n",
    "print(expected_values_mnist.shape)\n",
    "expected_values_cifar = np.dot(test_features_cifar, mu_w_cifar)\n",
    "print(expected_values_cifar.shape)"
   ]
  },
  {
   "cell_type": "code",
   "execution_count": 219,
   "metadata": {
    "collapsed": false
   },
   "outputs": [
    {
     "name": "stdout",
     "output_type": "stream",
     "text": [
      "(10000,)\n",
      "(10000,)\n"
     ]
    }
   ],
   "source": [
    "expected_values_num_mnist = np.argmax(expected_values_mnist, axis=1)\n",
    "print(expected_values_num_mnist.shape)\n",
    "expected_values_num_cifar = np.argmax(expected_values_cifar, axis=1)\n",
    "print(expected_values_num_mnist.shape)"
   ]
  },
  {
   "cell_type": "code",
   "execution_count": 222,
   "metadata": {
    "collapsed": false
   },
   "outputs": [
    {
     "data": {
      "image/png": "[encoded data removed]",
      "text/plain": [
       "<matplotlib.figure.Figure at 0x1122e29e8>"
      ]
     },
     "metadata": {},
     "output_type": "display_data"
    }
   ],
   "source": [
    "# Distribution of labels in MNIST\n",
    "fig, ax = plt.subplots(1,2,figsize=(13,5))\n",
    "ax[0].scatter(mnist_y_test, expected_values_num_mnist)\n",
    "ax[0].set_xticks((np.arange(0,10)))\n",
    "ax[0].set_yticks((np.arange(0,10)))\n",
    "ax[0].grid(axis='x', linestyle=':')\n",
    "ax[0].grid(axis='y', linestyle=':')\n",
    "ax[0].set_title(\"Scatter plot MNIST predictions\")\n",
    "\n",
    "ax[1].scatter(cifar_y_test, expected_values_num_cifar)\n",
    "ax[1].set_xticks((np.arange(0,10)))\n",
    "ax[1].set_yticks((np.arange(0,10)))\n",
    "ax[0].grid(axis='x', linestyle=':')\n",
    "ax[1].grid(axis='y', linestyle=':')\n",
    "ax[1].set_title(\"Scatter plot CIFAR predictions\")\n",
    "plt.show()"
   ]
  },
  {
   "cell_type": "markdown",
   "metadata": {},
   "source": [
    "Computing the mean squared error..."
   ]
  },
  {
   "cell_type": "code",
   "execution_count": 224,
   "metadata": {
    "collapsed": false
   },
   "outputs": [
    {
     "name": "stdout",
     "output_type": "stream",
     "text": [
      "2.4276\n",
      "12.7056\n"
     ]
    }
   ],
   "source": [
    "MSE_mnist = 1 / len(test_features_mnist) * np.linalg.norm(mnist_y_test - expected_values_num_mnist)**2\n",
    "print(MSE_mnist)\n",
    "\n",
    "MSE_cifar = 1 / len(test_features_cifar) * np.linalg.norm(cifar_y_test - expected_values_num_cifar)**2\n",
    "print(MSE_cifar)"
   ]
  },
  {
   "cell_type": "markdown",
   "metadata": {},
   "source": [
    "<div class=\"alert alert-info\">\n",
    "<h3>Comment</h3>\n",
    "We can see that our predictions cover a wide range (for CIFAR any kind of confusion is possible, for MNIST there are some gaps). We will observe the exact accuracies and prediction confusions in the next step. The MSE value tells us that on average we are sqrt(2.4) away from the true label for MNIST and sqrt(12.7) for CIFAR. Therefore, we already know that the regression model worked much better on MNIST than on CIFAR.\n",
    "</div>"
   ]
  },
  {
   "cell_type": "markdown",
   "metadata": {},
   "source": [
    "### d) Discretization, Confusion Matrix and Precision"
   ]
  },
  {
   "cell_type": "markdown",
   "metadata": {},
   "source": [
    "Discretizing our predictions was quite simple in our case. Since we use one-hot encoded labels, we simply take the \"argmax\" of our predictions to obtain a discrete prediction label. If we had run the regression against the original labels, the discretization step could be more complex because then we would have had to quantize the predicted labels in some way (e.g. round them)."
   ]
  },
  {
   "cell_type": "code",
   "execution_count": 225,
   "metadata": {
    "collapsed": true
   },
   "outputs": [],
   "source": [
    "import itertools\n",
    "\n",
    "def plot_confusion_matrix(cm, classes,\n",
    "                          normalize=False,\n",
    "                          title='Confusion matrix',\n",
    "                          cmap=plt.cm.Blues):\n",
    "    \"\"\"\n",
    "    This function prints and plots the confusion matrix.\n",
    "    Normalization can be applied by setting `normalize=True`.\n",
    "    \"\"\"\n",
    "    plt.imshow(cm, interpolation='nearest', cmap=cmap)\n",
    "    plt.title(title)\n",
    "    plt.colorbar()\n",
    "    tick_marks = np.arange(len(classes))\n",
    "    plt.xticks(tick_marks, classes, rotation=45)\n",
    "    plt.yticks(tick_marks, classes)\n",
    "\n",
    "    if normalize:\n",
    "        cm = cm.astype('float') / cm.sum(axis=1)[:, np.newaxis]\n",
    "        print(\"Normalized confusion matrix\")\n",
    "    else:\n",
    "        print('Confusion matrix, without normalization')\n",
    "\n",
    "    #print(cm)\n",
    "\n",
    "    thresh = cm.max() / 2.\n",
    "    for i, j in itertools.product(range(cm.shape[0]), range(cm.shape[1])):\n",
    "        plt.text(j, i, cm[i, j],\n",
    "                 horizontalalignment=\"center\",\n",
    "                 color=\"white\" if cm[i, j] > thresh else \"black\")\n",
    "\n",
    "    plt.tight_layout()\n",
    "    plt.ylabel('True label')\n",
    "    plt.xlabel('Predicted label')"
   ]
  },
  {
   "cell_type": "code",
   "execution_count": 226,
   "metadata": {
    "collapsed": false
   },
   "outputs": [
    {
     "name": "stdout",
     "output_type": "stream",
     "text": [
      "Confusion matrix, without normalization\n"
     ]
    },
    {
     "data": {
      "image/png": "[encoded data removed]",
      "text/plain": [
       "<matplotlib.figure.Figure at 0x1125d49b0>"
      ]
     },
     "metadata": {},
     "output_type": "display_data"
    }
   ],
   "source": [
    "from sklearn.metrics import confusion_matrix\n",
    "\n",
    "cnf_matrix_mnist = confusion_matrix(mnist_y_test, expected_values_num_mnist, labels=np.arange(10))\n",
    "\n",
    "np.set_printoptions(precision=2)\n",
    "\n",
    "# Plot non-normalized confusion matrix\n",
    "plt.figure()\n",
    "plot_confusion_matrix(cnf_matrix_mnist, classes=np.arange(10),\n",
    "                      title='Confusion matrix MNIST')\n",
    "\n",
    "plt.show()"
   ]
  },
  {
   "cell_type": "code",
   "execution_count": 228,
   "metadata": {
    "collapsed": false
   },
   "outputs": [
    {
     "name": "stdout",
     "output_type": "stream",
     "text": [
      "Confusion matrix, without normalization\n"
     ]
    },
    {
     "data": {
      "text/plain": [
       "<matplotlib.figure.Figure at 0x112583eb8>"
      ]
     },
     "metadata": {},
     "output_type": "display_data"
    },
    {
     "data": {
      "image/png": "[encoded data removed]",
      "text/plain": [
       "<matplotlib.figure.Figure at 0x10f2670f0>"
      ]
     },
     "metadata": {},
     "output_type": "display_data"
    }
   ],
   "source": [
    "cnf_matrix_cifar = confusion_matrix(cifar_y_test, expected_values_num_cifar, labels=np.arange(10))\n",
    "\n",
    "np.set_printoptions(precision=2)\n",
    "\n",
    "# Plot non-normalized confusion matrix\n",
    "plt.figure()\n",
    "plot_confusion_matrix(cnf_matrix_cifar, classes=np.arange(10),\n",
    "                      title='Confusion matrix CIFAR')\n",
    "\n",
    "plt.show()"
   ]
  },
  {
   "cell_type": "code",
   "execution_count": 229,
   "metadata": {
    "collapsed": false
   },
   "outputs": [
    {
     "name": "stdout",
     "output_type": "stream",
     "text": [
      "Accuracy MNIST:  0.8603\n",
      "Accuracy CIFAR:  0.3574\n"
     ]
    }
   ],
   "source": [
    "print('Accuracy MNIST: ', np.sum(expected_values_num_mnist == mnist_y_test) / len(mnist_y_test))\n",
    "print('Accuracy CIFAR: ', np.sum(expected_values_num_cifar == cifar_y_test) / len(cifar_y_test))"
   ]
  },
  {
   "cell_type": "markdown",
   "metadata": {},
   "source": [
    "<div class=\"alert alert-info\">\n",
    "<h3>Comment</h3>\n",
    "<p>We achieve an accuracy of around 86% on MNIST meaning that 86% of our predictions are correct with the regression model that we implemented. A random guess would achieve 10% accuracy. For CIFAR we only achieve 36%.</p>\n",
    "\n",
    "<p>MLE and the Bayesian approach lead to the same result meaning that for a large number of samples the expected prediction is equal to the MLE prediction. This is logical since the posterior distribution for W becomes more and more certain the more training samples we have (the variances for the W values decrease). Taking expected values gets closer to the actual value which also happens with the MLE estimator when adding more data.</p>\n",
    "</div>"
   ]
  },
  {
   "cell_type": "markdown",
   "metadata": {},
   "source": [
    "### e) Regression performance w.r.t. classification performance"
   ]
  },
  {
   "cell_type": "markdown",
   "metadata": {},
   "source": [
    "<div class=\"alert alert-info\">\n",
    "<h3>Comment</h3>\n",
    "Applying regression to classification tasks seems to work quite well (at least on MNIST) given that we apply the right preprocessing to the data (one-hot encoding of the training labels in our case). If we do not apply this preprocessing the results get a lot worse. Running a regression directly against categorical labels implies that we assume a linear relationship between the spatial values of the images and the categorical labels. However, this leads to a lot of confusions. <p>Example:</p>\n",
    "<p>- The number 9 pushes weights of the pixels along its contours up, so that filled pixels along them increase the linear output towards the value of 9.</p>\n",
    "<p>- At the same time the number 2 may share a lot of overlapping pixels with number 9 (depending on the handwritten digit we look at of course), which would push the weights in the opposite direction for those pixels.</p>\n",
    "<p>- Therefore, it is hard to come up with a good set of weights that produces the desired output.</p>\n",
    "\n",
    "<p>Assuming however, that we carry out the correct preprocessing of the training data, we see that regression algorithms can sometimes compete with classification algorithms. The performance is similar to the one of naive Bayes in the MNIST case.</p>\n",
    "<p>For the CIFAR dataset things have not worked out so well. The regression worked to some extend (36% accuracy is definitely better than a random guess 10%) but there is still a lot of space for improvement.</p>\n",
    "</div>"
   ]
  },
  {
   "cell_type": "markdown",
   "metadata": {},
   "source": [
    "### f) Limitation of using regression for the classification task"
   ]
  },
  {
   "cell_type": "markdown",
   "metadata": {},
   "source": [
    "<div class=\"alert alert-info\">\n",
    "<h3>Comment</h3>\n",
    "One limitation of the linear regression is the linear relationship that we assume between the input and the target labels. We have to assign a fixed weight to each pixel (plus an additional bias term). We could think of more flexible models like neural networks that only take certain combinations of pixels into account if they exceed a threshold value. These can even be extended to convolutional neural networks that take patterns inside images into account. Here the linear regression is clearly inferior because it does not produce translation or scale-invariant results. Shrinking the digit on an MNIST picture would make the trained regression model useless. Moreover, the linear regression does not take any care of structure in the data (which is important for image analysis). Shuffling the pixels and retraining the models would simply result in shuffled weights. For CIFAR we clearly need to incorporate the structure of the images into our model. Convolutional neural networks are known to work quite well.\n",
    "</div>"
   ]
  },
  {
   "cell_type": "markdown",
   "metadata": {},
   "source": [
    "# 3. Classification \n",
    "## 3.1 Naive Bayes classifier"
   ]
  },
  {
   "cell_type": "code",
   "execution_count": 1,
   "metadata": {
    "collapsed": true
   },
   "outputs": [],
   "source": [
    "def generatePriors(data):\n",
    "    priors = dict()\n",
    "    total = 0  \n",
    "    for class_n, images in data.items():\n",
    "        priors[class_n] = len(images)\n",
    "        total += len(images)\n",
    "    for class_n in priors:\n",
    "        priors[class_n] = priors[class_n]/total\n",
    "    return priors"
   ]
  },
  {
   "cell_type": "code",
   "execution_count": 2,
   "metadata": {
    "collapsed": true
   },
   "outputs": [],
   "source": [
    "def generateGaussians(data):\n",
    "    gaussians = dict()\n",
    "    for c, items in data.items():\n",
    "        gaussians[c] = {\n",
    "            'mean': np.mean(items, axis=0),\n",
    "            'var': np.var(items, axis=0),\n",
    "        }\n",
    "    return gaussians\n"
   ]
  },
  {
   "cell_type": "code",
   "execution_count": null,
   "metadata": {
    "collapsed": true
   },
   "outputs": [],
   "source": [
    "from scipy.stats import multivariate_normal as mvn\n",
    "\n",
    "def predict(X, gaussians, priors):\n",
    "        N, D = X.shape\n",
    "        K = len(gaussians)\n",
    "        P = np.zeros((N, K))\n",
    "        for c, g in gaussians.items():\n",
    "            print('Working on class %d...' %c)\n",
    "            mean, var = g['mean'], g['var']\n",
    "            P[:,c] = np.log(priors[c]) + mvn.logpdf(X, mean=mean, cov=var, allow_singular=True)\n",
    "        return np.argmax(P, axis=1)"
   ]
  },
  {
   "cell_type": "markdown",
   "metadata": {},
   "source": [
    "## b) Describe a positive and a negative feature of the classifier for these tasks \n",
    "\n",
    "The Naive Bayesian classifier is a pretty simple classifier, since it makes strong independent assumptions between the features, and this is certainly a limit since in our case we are considering images and it is very likely that the characteristics of a point are related to those of its neighbours.\n",
    "\n",
    "On the other hand, it is very simple and fast and it can usually lead to pretty good results, <span style=\"color: red; font-size: 16px;\">especially because the naive bayes assumption lowers the number of gaussian parameters that need to be fit considerably, which leads to a better data-parameter-ratio.</span>\n",
    "\n",
    "## c) Describe any data preprocessing that you suggest for this data and your classifier\n",
    "\n",
    "A problem we could have is the unbalancing between the labels in the training set for the MNIST dataset: the classifier will learn that some labels are more likely to appear with respect to the others and thus their prior will be different. This could lead the classifier to prefer one or few labels over the others and, in case the distribution of the labels \"in the real world\" is not the same as the one of the training set, we could have worse performances.\n",
    "<br>\n",
    "Thus, one possible operation to perform on the dataset is to remove some of the training entries in order to balance the different classes (this should be done only to the MNIST dataset since the CIFAR10 does not have this issue) or to simply assume a uniform prior among the digits.\n",
    "\n",
    "Another possible preprocessing operation to perform is removing the outliers in the training set: if we have a couple of samples that are way different from most of the others of the same class, it could be a good idea to remove them, otherwise the classifier could learn some feature that are due to noise or similar problems.\n",
    "\n",
    "<span style=\"color: red; font-size: 16px;\">One problem that I see with the training data in MNIST is that the pixel intensities are not at all normally distributed. Black is very likely and higher values become less likely. Moreover, we can have the case where on image is very pale (overall low pixel intensities). Imagine the class conditional distribution for a certain label and new datapoints. For a white dot at the right place a pale image could be penalized because the intensity is lower than expected. For the black pixels we expect a 0-value and we can only expect deviation in the positive direction which is against the normal assumption of the likelihood. I don't if that is an actual problem but we could try to normalize the pixel intensities (e.g. whitening)</span>\n",
    "\n",
    "## d) Apply your classifier to the two given datasets. Make sure your optimization is clearly  commented. Use classification accuracy and test log-likelihood as your figures of merit\n",
    "\n",
    "Before implementing the optimization, I use the classifier on the datasets as they are, in order to check whether the optimization gave some good result or, on the other hand, made it less precise.\n",
    "\n",
    "### MNIST"
   ]
  },
  {
   "cell_type": "code",
   "execution_count": 3,
   "metadata": {
    "collapsed": true
   },
   "outputs": [],
   "source": [
    "def score(predictions, labels):\n",
    "    num_success =0\n",
    "    #assert(len(predictions) == len(labels))\n",
    "    total = len(labels)\n",
    "    for i, class_predicted in enumerate(predictions):\n",
    "        if labels[i] == class_predicted:\n",
    "            num_success +=1\n",
    "    return num_success/total"
   ]
  },
  {
   "cell_type": "code",
   "execution_count": 4,
   "metadata": {
    "collapsed": false
   },
   "outputs": [
    {
     "ename": "NameError",
     "evalue": "name 'mnist_train_data_separated' is not defined",
     "output_type": "error",
     "traceback": [
      "\u001b[0;31m---------------------------------------------------------------------------\u001b[0m",
      "\u001b[0;31mNameError\u001b[0m                                 Traceback (most recent call last)",
      "\u001b[0;32m<ipython-input-4-4ca76ddfcc80>\u001b[0m in \u001b[0;36m<module>\u001b[0;34m()\u001b[0m\n\u001b[1;32m      3\u001b[0m \u001b[0mt0\u001b[0m \u001b[1;33m=\u001b[0m \u001b[0mdatetime\u001b[0m\u001b[1;33m.\u001b[0m\u001b[0mnow\u001b[0m\u001b[1;33m(\u001b[0m\u001b[1;33m)\u001b[0m\u001b[1;33m\u001b[0m\u001b[0m\n\u001b[1;32m      4\u001b[0m \u001b[1;33m\u001b[0m\u001b[0m\n\u001b[0;32m----> 5\u001b[0;31m \u001b[0mmnist_priors\u001b[0m \u001b[1;33m=\u001b[0m \u001b[0mgeneratePriors\u001b[0m\u001b[1;33m(\u001b[0m\u001b[0mmnist_train_data_separated\u001b[0m\u001b[1;33m)\u001b[0m\u001b[1;33m\u001b[0m\u001b[0m\n\u001b[0m\u001b[1;32m      6\u001b[0m \u001b[0mmnist_gaussians\u001b[0m \u001b[1;33m=\u001b[0m \u001b[0mgenerateGaussians\u001b[0m\u001b[1;33m(\u001b[0m\u001b[0mmnist_train_data_separated\u001b[0m\u001b[1;33m)\u001b[0m\u001b[1;33m\u001b[0m\u001b[0m\n\u001b[1;32m      7\u001b[0m \u001b[1;33m\u001b[0m\u001b[0m\n",
      "\u001b[0;31mNameError\u001b[0m: name 'mnist_train_data_separated' is not defined"
     ]
    }
   ],
   "source": [
    "from datetime import datetime\n",
    "\n",
    "t0 = datetime.now()\n",
    "\n",
    "mnist_priors = generatePriors(mnist_train_data_separated)\n",
    "mnist_gaussians = generateGaussians(mnist_train_data_separated)\n",
    "\n",
    "print (\"Training time:\", (datetime.now() - t0))"
   ]
  },
  {
   "cell_type": "code",
   "execution_count": null,
   "metadata": {
    "collapsed": true
   },
   "outputs": [],
   "source": [
    "mnist_predictions = predict(np.array(mnist_test_data), mnist_gaussians, mnist_priors)"
   ]
  },
  {
   "cell_type": "code",
   "execution_count": null,
   "metadata": {
    "collapsed": true
   },
   "outputs": [],
   "source": [
    "print(\"The accuracy of the classifier is\", score(mnist_predictions, mnist_test_label)*100, \"%\" )"
   ]
  },
  {
   "cell_type": "markdown",
   "metadata": {},
   "source": [
    "## Optimizations"
   ]
  },
  {
   "cell_type": "code",
   "execution_count": 5,
   "metadata": {
    "collapsed": true
   },
   "outputs": [],
   "source": [
    "def removeOutliers(data, margin):\n",
    "    new_data = {0: [], 1: [], 2: [], 3: [], 4: [], 5: [], 6: [], 7: [], 8: [], 9: []}\n",
    "    for c, items in data.items():\n",
    "        mean = np.mean(items, axis=0)\n",
    "        for image in items:\n",
    "            valid = True\n",
    "            for i in range(len(image)):\n",
    "                if  (image[i] - mean[i]) < -margin or (image[i] - mean[i]) > margin:\n",
    "                    valid = False\n",
    "            if valid:\n",
    "                new_data[c].append(image)\n",
    "    return new_data"
   ]
  },
  {
   "cell_type": "code",
   "execution_count": null,
   "metadata": {
    "collapsed": true
   },
   "outputs": [],
   "source": [
    "optimized_mnist_train_data_separated = removeOutliers(mnist_train_data_separated, 230)\n",
    "\n",
    "print(\"Number of images per class after outliers removal:\")\n",
    "for c, items in optimized_mnist_train_data_separated.items():\n",
    "    print(\"-\", c, \":\", len(items))\n",
    "print(\"\")\n",
    "print(\"Number of images per class before outliers removal:\")\n",
    "for c, items in mnist_train_data_separated.items():\n",
    "    print(\"-\",c,\":\", len(items))"
   ]
  },
  {
   "cell_type": "code",
   "execution_count": null,
   "metadata": {
    "collapsed": true
   },
   "outputs": [],
   "source": [
    "t0 = datetime.now()\n",
    "optimized_mnist_priors = generatePriors(optimized_mnist_train_data_separated)\n",
    "optimized_mnist_gaussians = generateGaussians(optimized_mnist_train_data_separated)\n",
    "print (\"Training time:\", (datetime.now() - t0))\n",
    "optimized_mnist_predictions = predict(np.array(mnist_test_data), optimized_mnist_gaussians, optimized_mnist_priors)\n",
    "print(\"Accuracy of optimized classifier:\", score(optimized_mnist_predictions, mnist_test_label)*100, \"%\" )"
   ]
  },
  {
   "cell_type": "markdown",
   "metadata": {},
   "source": [
    "<span style=\"color: red; font-size: 16px;\">Why do you create a balanced training set? You could simply assume a uniform prior, i.e. p(label=x) = 1/10</span>"
   ]
  },
  {
   "cell_type": "code",
   "execution_count": null,
   "metadata": {
    "collapsed": true
   },
   "outputs": [],
   "source": [
    "balanced_mnist_train_data_separated = balanceClasses(optimized_mnist_train_data_separated)\n",
    "\n",
    "print(\"Number of images per class after outliers removal:\")\n",
    "for c, items in balanced_mnist_train_data_separated.items():\n",
    "    print(\"-\", c, \":\", len(items))\n",
    "print(\"\")\n",
    "print(\"Number of images per class before outliers removal:\")\n",
    "for c, items in optimized_mnist_train_data_separated.items():\n",
    "    print(\"-\",c,\":\", len(items))"
   ]
  },
  {
   "cell_type": "code",
   "execution_count": null,
   "metadata": {
    "collapsed": true
   },
   "outputs": [],
   "source": [
    "t0 = datetime.now()\n",
    "bal_opt_mnist_priors = generatePriors(bal_opt_mnist_train_data_separated)\n",
    "bal_opt_mnist_gaussians = generateGaussians(bal_opt_mnist_train_data_separated)\n",
    "print (\"Training time:\", (datetime.now() - t0))\n",
    "bal_opt_mnist_predictions = predict(np.array(mnist_test_data), bal_opt_mnist_gaussians, bal_opt_mnist_priors)\n",
    "print(\"Accuracy of optimized classifier:\", score(bal_opt_mnist_predictions, mnist_test_label)*100, \"%\" )"
   ]
  },
  {
   "cell_type": "markdown",
   "metadata": {},
   "source": [
    "## CIFAR 10"
   ]
  },
  {
   "cell_type": "code",
   "execution_count": null,
   "metadata": {
    "collapsed": true
   },
   "outputs": [],
   "source": [
    "t0 = datetime.now()\n",
    "\n",
    "cifar_priors = generatePriors(cifar_train_data_separated)\n",
    "cifar_gaussians = generateGaussians(cifar_train_data_separated)\n",
    "\n",
    "print (\"Training time:\", (datetime.now() - t0))"
   ]
  },
  {
   "cell_type": "code",
   "execution_count": null,
   "metadata": {
    "collapsed": true
   },
   "outputs": [],
   "source": [
    "cifar_predictions = predict(np.array(cifar_test['data']), cifar_gaussians, cifar_priors)"
   ]
  },
  {
   "cell_type": "code",
   "execution_count": null,
   "metadata": {
    "collapsed": true
   },
   "outputs": [],
   "source": [
    "print(score(cifar_predictions, cifar_test['labels']))"
   ]
  },
  {
   "cell_type": "markdown",
   "metadata": {},
   "source": [
    "### Optimizations"
   ]
  },
  {
   "cell_type": "code",
   "execution_count": null,
   "metadata": {
    "collapsed": true
   },
   "outputs": [],
   "source": [
    "optimized_cifar_train_data_separated = removeOutliers(cifar_train_data_separated, 150)\n",
    "\n",
    "print(\"Number of images per class after outliers removal:\")\n",
    "for c, items in optimized_cifar_train_data_separated.items():\n",
    "    print(\"-\", c, \":\", len(items))\n",
    "print(\"\")\n",
    "print(\"Number of images per class before outliers removal:\")\n",
    "for c, items in cifar_train_data_separated.items():\n",
    "    print(\"-\",c,\":\", len(items))"
   ]
  },
  {
   "cell_type": "code",
   "execution_count": null,
   "metadata": {
    "collapsed": true
   },
   "outputs": [],
   "source": [
    "t0 = datetime.now()\n",
    "optimized_cifar_priors = generatePriors(optimized_cifar_train_data_separated)\n",
    "optimized_cifar_gaussians = generateGaussians(optimized_cifar_train_data_separated)\n",
    "print (\"Training time:\", (datetime.now() - t0))\n",
    "optimized_cifar_predictions = predict(np.array(cifar_test['data']), optimized_cifar_gaussians, optimized_cifar_priors)\n",
    "print(\"Accuracy of optimized classifier:\", score(optimized_cifar_predictions, cifar_test['labels'])*100, \"%\" )"
   ]
  },
  {
   "cell_type": "code",
   "execution_count": null,
   "metadata": {
    "collapsed": true
   },
   "outputs": [],
   "source": [
    "bal_opt_cifar_train_data_separated = balanceClasses(optimized_cifar_train_data_separated)\n",
    "\n",
    "print(\"Number of images per class after outliers removal:\")\n",
    "for c, items in bal_opt_cifar_train_data_separated.items():\n",
    "    print(\"-\", c, \":\", len(items))\n",
    "print(\"\")\n",
    "print(\"Number of images per class before outliers removal:\")\n",
    "for c, items in optimized_cifar_train_data_separated.items():\n",
    "    print(\"-\",c,\":\", len(items))"
   ]
  },
  {
   "cell_type": "code",
   "execution_count": null,
   "metadata": {
    "collapsed": true
   },
   "outputs": [],
   "source": [
    "t0 = datetime.now()\n",
    "bal_opt_cifar_priors = generatePriors(bal_opt_cifar_train_data_separated)\n",
    "bal_opt_cifar_gaussians = generateGaussians(bal_opt_cifar_train_data_separated)\n",
    "print (\"Training time:\", (datetime.now() - t0))\n",
    "bal_opt_cifar_predictions = predict(np.array(cifar_test['data']), bal_opt_cifar_gaussians, bal_opt_cifar_priors)\n",
    "print(\"Accuracy of optimized classifier:\", score(bal_opt_cifar_predictions, cifar_test['labels'])*100, \"%\" )"
   ]
  },
  {
   "cell_type": "markdown",
   "metadata": {},
   "source": [
    "## e) Display confusion matrix"
   ]
  },
  {
   "cell_type": "code",
   "execution_count": 7,
   "metadata": {
    "collapsed": false
   },
   "outputs": [
    {
     "ename": "NameError",
     "evalue": "name 'plt' is not defined",
     "output_type": "error",
     "traceback": [
      "\u001b[0;31m---------------------------------------------------------------------------\u001b[0m",
      "\u001b[0;31mNameError\u001b[0m                                 Traceback (most recent call last)",
      "\u001b[0;32m<ipython-input-7-4a88779a512d>\u001b[0m in \u001b[0;36m<module>\u001b[0;34m()\u001b[0m\n\u001b[1;32m      2\u001b[0m \u001b[1;32mimport\u001b[0m \u001b[0mitertools\u001b[0m\u001b[1;33m\u001b[0m\u001b[0m\n\u001b[1;32m      3\u001b[0m \u001b[1;33m\u001b[0m\u001b[0m\n\u001b[0;32m----> 4\u001b[0;31m \u001b[1;32mdef\u001b[0m \u001b[0mplot_confusion_matrix\u001b[0m\u001b[1;33m(\u001b[0m\u001b[0mcm\u001b[0m\u001b[1;33m,\u001b[0m \u001b[0mclasses\u001b[0m\u001b[1;33m,\u001b[0m \u001b[0mnormalize\u001b[0m\u001b[1;33m=\u001b[0m\u001b[1;32mFalse\u001b[0m\u001b[1;33m,\u001b[0m \u001b[0mtitle\u001b[0m\u001b[1;33m=\u001b[0m\u001b[1;34m'Confusion matrix'\u001b[0m\u001b[1;33m,\u001b[0m \u001b[0mcmap\u001b[0m\u001b[1;33m=\u001b[0m\u001b[0mplt\u001b[0m\u001b[1;33m.\u001b[0m\u001b[0mcm\u001b[0m\u001b[1;33m.\u001b[0m\u001b[0mBlues\u001b[0m\u001b[1;33m)\u001b[0m\u001b[1;33m:\u001b[0m\u001b[1;33m\u001b[0m\u001b[0m\n\u001b[0m\u001b[1;32m      5\u001b[0m     \u001b[0mplt\u001b[0m\u001b[1;33m.\u001b[0m\u001b[0mimshow\u001b[0m\u001b[1;33m(\u001b[0m\u001b[0mcm\u001b[0m\u001b[1;33m,\u001b[0m \u001b[0minterpolation\u001b[0m\u001b[1;33m=\u001b[0m\u001b[1;34m'nearest'\u001b[0m\u001b[1;33m,\u001b[0m \u001b[0mcmap\u001b[0m\u001b[1;33m=\u001b[0m\u001b[0mcmap\u001b[0m\u001b[1;33m)\u001b[0m\u001b[1;33m\u001b[0m\u001b[0m\n\u001b[1;32m      6\u001b[0m     \u001b[0mplt\u001b[0m\u001b[1;33m.\u001b[0m\u001b[0mtitle\u001b[0m\u001b[1;33m(\u001b[0m\u001b[0mtitle\u001b[0m\u001b[1;33m)\u001b[0m\u001b[1;33m\u001b[0m\u001b[0m\n",
      "\u001b[0;31mNameError\u001b[0m: name 'plt' is not defined"
     ]
    }
   ],
   "source": [
    "from sklearn.metrics import confusion_matrix\n",
    "import itertools\n",
    "\n",
    "def plot_confusion_matrix(cm, classes, normalize=False, title='Confusion matrix', cmap=plt.cm.Blues):\n",
    "    plt.imshow(cm, interpolation='nearest', cmap=cmap)\n",
    "    plt.title(title)\n",
    "    plt.colorbar()\n",
    "    tick_marks = np.arange(len(classes))\n",
    "    plt.xticks(tick_marks, classes, rotation=45)\n",
    "    plt.yticks(tick_marks, classes)\n",
    "\n",
    "    if normalize:\n",
    "        cm = cm.astype('float') / cm.sum(axis=1)[:, np.newaxis]\n",
    "        print(\"Normalized confusion matrix\")\n",
    "    else:\n",
    "        print('Confusion matrix, without normalization')\n",
    "\n",
    "    print(cm)\n",
    "\n",
    "    thresh = cm.max() / 2.\n",
    "    for i, j in itertools.product(range(cm.shape[0]), range(cm.shape[1])):\n",
    "        plt.text(j, i, math.ceil(cm[i, j]*100000)/100000,\n",
    "                 horizontalalignment=\"center\",\n",
    "                 color=\"white\" if cm[i, j] > thresh else \"black\")\n",
    "\n",
    "    plt.tight_layout()\n",
    "    plt.ylabel('True label')\n",
    "    plt.xlabel('Predicted label')"
   ]
  },
  {
   "cell_type": "code",
   "execution_count": null,
   "metadata": {
    "collapsed": true
   },
   "outputs": [],
   "source": [
    "# MNIST\n",
    "cnf_matrix = confusion_matrix(list(mnist_test_label), mnist_predictions)\n",
    "np.set_printoptions(precision=2)\n",
    "\n",
    "plt.figure()\n",
    "plt.figure(figsize=(10,10))\n",
    "class_names = range(10)\n",
    "plot_confusion_matrix(cnf_matrix, classes=class_names, normalize=True, title='Confusion matrix')\n",
    "\n",
    "plt.show()"
   ]
  },
  {
   "cell_type": "code",
   "execution_count": null,
   "metadata": {
    "collapsed": true
   },
   "outputs": [],
   "source": [
    "#CIFAR10\n",
    "cnf_matrix = confusion_matrix(cifar_test['labels'], cifar_predictions)\n",
    "np.set_printoptions(precision=2)\n",
    "\n",
    "plt.figure()\n",
    "plt.figure(figsize=(10,10))\n",
    "class_names = range(10)\n",
    "plot_confusion_matrix(cnf_matrix, classes=class_names, normalize=True, title='Confusion matrix')\n",
    "\n",
    "plt.show()"
   ]
  },
  {
   "cell_type": "markdown",
   "metadata": {},
   "source": [
    "## f) Discuss  the  performance,  compare  them  against  a  classifier  that  outputs random class labels, and suggest ways in which performance could be improved"
   ]
  }
 ],
 "metadata": {
  "kernelspec": {
   "display_name": "Python 3",
   "language": "python",
   "name": "python3"
  },
  "language_info": {
   "codemirror_mode": {
    "name": "ipython",
    "version": 3
   },
   "file_extension": ".py",
   "mimetype": "text/x-python",
   "name": "python",
   "nbconvert_exporter": "python",
   "pygments_lexer": "ipython3",
   "version": "3.6.0"
  }
 },
 "nbformat": 4,
 "nbformat_minor": 2
}
